Wipe notebook to remove from repo
